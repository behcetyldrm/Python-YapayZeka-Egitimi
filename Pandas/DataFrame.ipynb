{
 "cells": [
  {
   "cell_type": "code",
   "execution_count": 1,
   "metadata": {},
   "outputs": [],
   "source": [
    "import pandas as pd\n",
    "import numpy as np"
   ]
  },
  {
   "cell_type": "code",
   "execution_count": 2,
   "metadata": {},
   "outputs": [],
   "source": [
    "data = np.random.randn(4,3)"
   ]
  },
  {
   "cell_type": "code",
   "execution_count": 3,
   "metadata": {},
   "outputs": [
    {
     "data": {
      "text/plain": [
       "array([[-0.27927066, -0.11749099, -0.40665046],\n",
       "       [ 1.32560839, -0.18718984,  1.22922085],\n",
       "       [ 0.39903739,  0.74372328,  0.39401003],\n",
       "       [-0.90829571, -1.50335826,  0.26119027]])"
      ]
     },
     "execution_count": 3,
     "metadata": {},
     "output_type": "execute_result"
    }
   ],
   "source": [
    "data"
   ]
  },
  {
   "cell_type": "code",
   "execution_count": 4,
   "metadata": {},
   "outputs": [],
   "source": [
    "dataFrame = pd.DataFrame(data)"
   ]
  },
  {
   "cell_type": "code",
   "execution_count": 5,
   "metadata": {},
   "outputs": [
    {
     "data": {
      "text/html": [
       "<div>\n",
       "<style scoped>\n",
       "    .dataframe tbody tr th:only-of-type {\n",
       "        vertical-align: middle;\n",
       "    }\n",
       "\n",
       "    .dataframe tbody tr th {\n",
       "        vertical-align: top;\n",
       "    }\n",
       "\n",
       "    .dataframe thead th {\n",
       "        text-align: right;\n",
       "    }\n",
       "</style>\n",
       "<table border=\"1\" class=\"dataframe\">\n",
       "  <thead>\n",
       "    <tr style=\"text-align: right;\">\n",
       "      <th></th>\n",
       "      <th>0</th>\n",
       "      <th>1</th>\n",
       "      <th>2</th>\n",
       "    </tr>\n",
       "  </thead>\n",
       "  <tbody>\n",
       "    <tr>\n",
       "      <th>0</th>\n",
       "      <td>-0.279271</td>\n",
       "      <td>-0.117491</td>\n",
       "      <td>-0.406650</td>\n",
       "    </tr>\n",
       "    <tr>\n",
       "      <th>1</th>\n",
       "      <td>1.325608</td>\n",
       "      <td>-0.187190</td>\n",
       "      <td>1.229221</td>\n",
       "    </tr>\n",
       "    <tr>\n",
       "      <th>2</th>\n",
       "      <td>0.399037</td>\n",
       "      <td>0.743723</td>\n",
       "      <td>0.394010</td>\n",
       "    </tr>\n",
       "    <tr>\n",
       "      <th>3</th>\n",
       "      <td>-0.908296</td>\n",
       "      <td>-1.503358</td>\n",
       "      <td>0.261190</td>\n",
       "    </tr>\n",
       "  </tbody>\n",
       "</table>\n",
       "</div>"
      ],
      "text/plain": [
       "          0         1         2\n",
       "0 -0.279271 -0.117491 -0.406650\n",
       "1  1.325608 -0.187190  1.229221\n",
       "2  0.399037  0.743723  0.394010\n",
       "3 -0.908296 -1.503358  0.261190"
      ]
     },
     "execution_count": 5,
     "metadata": {},
     "output_type": "execute_result"
    }
   ],
   "source": [
    "dataFrame #dataFrame -> verileri tablo şeklinde gösterir"
   ]
  },
  {
   "cell_type": "code",
   "execution_count": 6,
   "metadata": {},
   "outputs": [
    {
     "data": {
      "text/plain": [
       "0   -0.279271\n",
       "1    1.325608\n",
       "2    0.399037\n",
       "3   -0.908296\n",
       "Name: 0, dtype: float64"
      ]
     },
     "execution_count": 6,
     "metadata": {},
     "output_type": "execute_result"
    }
   ],
   "source": [
    "dataFrame[0] # ilk kolonu getirir"
   ]
  },
  {
   "cell_type": "code",
   "execution_count": 38,
   "metadata": {},
   "outputs": [],
   "source": [
    "yeniDataFrame = pd.DataFrame(data, index=[\"Behçet\",\"Yavuz\",\"Gizem\",\"Şevval\"], columns=[\"Maaş\",\"Yaş\",\"Çalışma Saati\"])"
   ]
  },
  {
   "cell_type": "code",
   "execution_count": 39,
   "metadata": {},
   "outputs": [
    {
     "data": {
      "text/html": [
       "<div>\n",
       "<style scoped>\n",
       "    .dataframe tbody tr th:only-of-type {\n",
       "        vertical-align: middle;\n",
       "    }\n",
       "\n",
       "    .dataframe tbody tr th {\n",
       "        vertical-align: top;\n",
       "    }\n",
       "\n",
       "    .dataframe thead th {\n",
       "        text-align: right;\n",
       "    }\n",
       "</style>\n",
       "<table border=\"1\" class=\"dataframe\">\n",
       "  <thead>\n",
       "    <tr style=\"text-align: right;\">\n",
       "      <th></th>\n",
       "      <th>Maaş</th>\n",
       "      <th>Yaş</th>\n",
       "      <th>Çalışma Saati</th>\n",
       "    </tr>\n",
       "  </thead>\n",
       "  <tbody>\n",
       "    <tr>\n",
       "      <th>Behçet</th>\n",
       "      <td>-0.279271</td>\n",
       "      <td>-0.117491</td>\n",
       "      <td>-0.406650</td>\n",
       "    </tr>\n",
       "    <tr>\n",
       "      <th>Yavuz</th>\n",
       "      <td>1.325608</td>\n",
       "      <td>-0.187190</td>\n",
       "      <td>1.229221</td>\n",
       "    </tr>\n",
       "    <tr>\n",
       "      <th>Gizem</th>\n",
       "      <td>0.399037</td>\n",
       "      <td>0.743723</td>\n",
       "      <td>0.394010</td>\n",
       "    </tr>\n",
       "    <tr>\n",
       "      <th>Şevval</th>\n",
       "      <td>-0.908296</td>\n",
       "      <td>-1.503358</td>\n",
       "      <td>0.261190</td>\n",
       "    </tr>\n",
       "  </tbody>\n",
       "</table>\n",
       "</div>"
      ],
      "text/plain": [
       "            Maaş       Yaş  Çalışma Saati\n",
       "Behçet -0.279271 -0.117491      -0.406650\n",
       "Yavuz   1.325608 -0.187190       1.229221\n",
       "Gizem   0.399037  0.743723       0.394010\n",
       "Şevval -0.908296 -1.503358       0.261190"
      ]
     },
     "execution_count": 39,
     "metadata": {},
     "output_type": "execute_result"
    }
   ],
   "source": [
    "yeniDataFrame #satır ve kolonların isimleri değiştirebiliriz"
   ]
  },
  {
   "cell_type": "code",
   "execution_count": 9,
   "metadata": {},
   "outputs": [
    {
     "data": {
      "text/plain": [
       "Behçet   -0.279271\n",
       "Yavuz     1.325608\n",
       "Gizem     0.399037\n",
       "Şevval   -0.908296\n",
       "Name: Maaş, dtype: float64"
      ]
     },
     "execution_count": 9,
     "metadata": {},
     "output_type": "execute_result"
    }
   ],
   "source": [
    "yeniDataFrame[\"Maaş\"]"
   ]
  },
  {
   "cell_type": "code",
   "execution_count": 10,
   "metadata": {},
   "outputs": [
    {
     "data": {
      "text/html": [
       "<div>\n",
       "<style scoped>\n",
       "    .dataframe tbody tr th:only-of-type {\n",
       "        vertical-align: middle;\n",
       "    }\n",
       "\n",
       "    .dataframe tbody tr th {\n",
       "        vertical-align: top;\n",
       "    }\n",
       "\n",
       "    .dataframe thead th {\n",
       "        text-align: right;\n",
       "    }\n",
       "</style>\n",
       "<table border=\"1\" class=\"dataframe\">\n",
       "  <thead>\n",
       "    <tr style=\"text-align: right;\">\n",
       "      <th></th>\n",
       "      <th>Yaş</th>\n",
       "      <th>Çalışma Saati</th>\n",
       "    </tr>\n",
       "  </thead>\n",
       "  <tbody>\n",
       "    <tr>\n",
       "      <th>Behçet</th>\n",
       "      <td>-0.117491</td>\n",
       "      <td>-0.406650</td>\n",
       "    </tr>\n",
       "    <tr>\n",
       "      <th>Yavuz</th>\n",
       "      <td>-0.187190</td>\n",
       "      <td>1.229221</td>\n",
       "    </tr>\n",
       "    <tr>\n",
       "      <th>Gizem</th>\n",
       "      <td>0.743723</td>\n",
       "      <td>0.394010</td>\n",
       "    </tr>\n",
       "    <tr>\n",
       "      <th>Şevval</th>\n",
       "      <td>-1.503358</td>\n",
       "      <td>0.261190</td>\n",
       "    </tr>\n",
       "  </tbody>\n",
       "</table>\n",
       "</div>"
      ],
      "text/plain": [
       "             Yaş  Çalışma Saati\n",
       "Behçet -0.117491      -0.406650\n",
       "Yavuz  -0.187190       1.229221\n",
       "Gizem   0.743723       0.394010\n",
       "Şevval -1.503358       0.261190"
      ]
     },
     "execution_count": 10,
     "metadata": {},
     "output_type": "execute_result"
    }
   ],
   "source": [
    "yeniDataFrame[[\"Yaş\",\"Çalışma Saati\"]] # sadece seçili olan kolandaki verileri getirir"
   ]
  },
  {
   "cell_type": "code",
   "execution_count": 11,
   "metadata": {},
   "outputs": [
    {
     "data": {
      "text/plain": [
       "Maaş            -0.279271\n",
       "Yaş             -0.117491\n",
       "Çalışma Saati   -0.406650\n",
       "Name: Behçet, dtype: float64"
      ]
     },
     "execution_count": 11,
     "metadata": {},
     "output_type": "execute_result"
    }
   ],
   "source": [
    "yeniDataFrame.loc[\"Behçet\"] #loc -> satırlardaki index'leri baz alır. default olarak kolonlardaki index'leri baz alır"
   ]
  },
  {
   "cell_type": "code",
   "execution_count": 12,
   "metadata": {},
   "outputs": [
    {
     "data": {
      "text/plain": [
       "Maaş             1.325608\n",
       "Yaş             -0.187190\n",
       "Çalışma Saati    1.229221\n",
       "Name: Yavuz, dtype: float64"
      ]
     },
     "execution_count": 12,
     "metadata": {},
     "output_type": "execute_result"
    }
   ],
   "source": [
    "yeniDataFrame.iloc[1] # iloc -> satırları baz alır ama index isimlerini değil index numaralarını baz alır"
   ]
  },
  {
   "cell_type": "code",
   "execution_count": 13,
   "metadata": {},
   "outputs": [
    {
     "data": {
      "text/html": [
       "<div>\n",
       "<style scoped>\n",
       "    .dataframe tbody tr th:only-of-type {\n",
       "        vertical-align: middle;\n",
       "    }\n",
       "\n",
       "    .dataframe tbody tr th {\n",
       "        vertical-align: top;\n",
       "    }\n",
       "\n",
       "    .dataframe thead th {\n",
       "        text-align: right;\n",
       "    }\n",
       "</style>\n",
       "<table border=\"1\" class=\"dataframe\">\n",
       "  <thead>\n",
       "    <tr style=\"text-align: right;\">\n",
       "      <th></th>\n",
       "      <th>Maaş</th>\n",
       "      <th>Yaş</th>\n",
       "      <th>Çalışma Saati</th>\n",
       "    </tr>\n",
       "  </thead>\n",
       "  <tbody>\n",
       "    <tr>\n",
       "      <th>Behçet</th>\n",
       "      <td>-0.279271</td>\n",
       "      <td>-0.117491</td>\n",
       "      <td>-0.406650</td>\n",
       "    </tr>\n",
       "    <tr>\n",
       "      <th>Yavuz</th>\n",
       "      <td>1.325608</td>\n",
       "      <td>-0.187190</td>\n",
       "      <td>1.229221</td>\n",
       "    </tr>\n",
       "    <tr>\n",
       "      <th>Gizem</th>\n",
       "      <td>0.399037</td>\n",
       "      <td>0.743723</td>\n",
       "      <td>0.394010</td>\n",
       "    </tr>\n",
       "    <tr>\n",
       "      <th>Şevval</th>\n",
       "      <td>-0.908296</td>\n",
       "      <td>-1.503358</td>\n",
       "      <td>0.261190</td>\n",
       "    </tr>\n",
       "  </tbody>\n",
       "</table>\n",
       "</div>"
      ],
      "text/plain": [
       "            Maaş       Yaş  Çalışma Saati\n",
       "Behçet -0.279271 -0.117491      -0.406650\n",
       "Yavuz   1.325608 -0.187190       1.229221\n",
       "Gizem   0.399037  0.743723       0.394010\n",
       "Şevval -0.908296 -1.503358       0.261190"
      ]
     },
     "execution_count": 13,
     "metadata": {},
     "output_type": "execute_result"
    }
   ],
   "source": [
    "yeniDataFrame"
   ]
  },
  {
   "cell_type": "code",
   "execution_count": 14,
   "metadata": {},
   "outputs": [],
   "source": [
    "yeniDataFrame[\"Emeklilik Yaşı\"] = yeniDataFrame[\"Maaş\"] * 2 # dataFrame'e kolayca yeni kolon ekleyebiliriz"
   ]
  },
  {
   "cell_type": "code",
   "execution_count": 15,
   "metadata": {},
   "outputs": [
    {
     "data": {
      "text/html": [
       "<div>\n",
       "<style scoped>\n",
       "    .dataframe tbody tr th:only-of-type {\n",
       "        vertical-align: middle;\n",
       "    }\n",
       "\n",
       "    .dataframe tbody tr th {\n",
       "        vertical-align: top;\n",
       "    }\n",
       "\n",
       "    .dataframe thead th {\n",
       "        text-align: right;\n",
       "    }\n",
       "</style>\n",
       "<table border=\"1\" class=\"dataframe\">\n",
       "  <thead>\n",
       "    <tr style=\"text-align: right;\">\n",
       "      <th></th>\n",
       "      <th>Maaş</th>\n",
       "      <th>Yaş</th>\n",
       "      <th>Çalışma Saati</th>\n",
       "      <th>Emeklilik Yaşı</th>\n",
       "    </tr>\n",
       "  </thead>\n",
       "  <tbody>\n",
       "    <tr>\n",
       "      <th>Behçet</th>\n",
       "      <td>-0.279271</td>\n",
       "      <td>-0.117491</td>\n",
       "      <td>-0.406650</td>\n",
       "      <td>-0.558541</td>\n",
       "    </tr>\n",
       "    <tr>\n",
       "      <th>Yavuz</th>\n",
       "      <td>1.325608</td>\n",
       "      <td>-0.187190</td>\n",
       "      <td>1.229221</td>\n",
       "      <td>2.651217</td>\n",
       "    </tr>\n",
       "    <tr>\n",
       "      <th>Gizem</th>\n",
       "      <td>0.399037</td>\n",
       "      <td>0.743723</td>\n",
       "      <td>0.394010</td>\n",
       "      <td>0.798075</td>\n",
       "    </tr>\n",
       "    <tr>\n",
       "      <th>Şevval</th>\n",
       "      <td>-0.908296</td>\n",
       "      <td>-1.503358</td>\n",
       "      <td>0.261190</td>\n",
       "      <td>-1.816591</td>\n",
       "    </tr>\n",
       "  </tbody>\n",
       "</table>\n",
       "</div>"
      ],
      "text/plain": [
       "            Maaş       Yaş  Çalışma Saati  Emeklilik Yaşı\n",
       "Behçet -0.279271 -0.117491      -0.406650       -0.558541\n",
       "Yavuz   1.325608 -0.187190       1.229221        2.651217\n",
       "Gizem   0.399037  0.743723       0.394010        0.798075\n",
       "Şevval -0.908296 -1.503358       0.261190       -1.816591"
      ]
     },
     "execution_count": 15,
     "metadata": {},
     "output_type": "execute_result"
    }
   ],
   "source": [
    "yeniDataFrame"
   ]
  },
  {
   "cell_type": "code",
   "execution_count": 16,
   "metadata": {},
   "outputs": [
    {
     "data": {
      "text/html": [
       "<div>\n",
       "<style scoped>\n",
       "    .dataframe tbody tr th:only-of-type {\n",
       "        vertical-align: middle;\n",
       "    }\n",
       "\n",
       "    .dataframe tbody tr th {\n",
       "        vertical-align: top;\n",
       "    }\n",
       "\n",
       "    .dataframe thead th {\n",
       "        text-align: right;\n",
       "    }\n",
       "</style>\n",
       "<table border=\"1\" class=\"dataframe\">\n",
       "  <thead>\n",
       "    <tr style=\"text-align: right;\">\n",
       "      <th></th>\n",
       "      <th>Maaş</th>\n",
       "      <th>Yaş</th>\n",
       "      <th>Çalışma Saati</th>\n",
       "    </tr>\n",
       "  </thead>\n",
       "  <tbody>\n",
       "    <tr>\n",
       "      <th>Behçet</th>\n",
       "      <td>-0.279271</td>\n",
       "      <td>-0.117491</td>\n",
       "      <td>-0.406650</td>\n",
       "    </tr>\n",
       "    <tr>\n",
       "      <th>Yavuz</th>\n",
       "      <td>1.325608</td>\n",
       "      <td>-0.187190</td>\n",
       "      <td>1.229221</td>\n",
       "    </tr>\n",
       "    <tr>\n",
       "      <th>Gizem</th>\n",
       "      <td>0.399037</td>\n",
       "      <td>0.743723</td>\n",
       "      <td>0.394010</td>\n",
       "    </tr>\n",
       "    <tr>\n",
       "      <th>Şevval</th>\n",
       "      <td>-0.908296</td>\n",
       "      <td>-1.503358</td>\n",
       "      <td>0.261190</td>\n",
       "    </tr>\n",
       "  </tbody>\n",
       "</table>\n",
       "</div>"
      ],
      "text/plain": [
       "            Maaş       Yaş  Çalışma Saati\n",
       "Behçet -0.279271 -0.117491      -0.406650\n",
       "Yavuz   1.325608 -0.187190       1.229221\n",
       "Gizem   0.399037  0.743723       0.394010\n",
       "Şevval -0.908296 -1.503358       0.261190"
      ]
     },
     "execution_count": 16,
     "metadata": {},
     "output_type": "execute_result"
    }
   ],
   "source": [
    "yeniDataFrame.drop(\"Emeklilik Yaşı\", axis=1) #kolon siler, satır(row) silmek için axis=0(default) olması gerekir"
   ]
  },
  {
   "cell_type": "code",
   "execution_count": 17,
   "metadata": {},
   "outputs": [
    {
     "data": {
      "text/html": [
       "<div>\n",
       "<style scoped>\n",
       "    .dataframe tbody tr th:only-of-type {\n",
       "        vertical-align: middle;\n",
       "    }\n",
       "\n",
       "    .dataframe tbody tr th {\n",
       "        vertical-align: top;\n",
       "    }\n",
       "\n",
       "    .dataframe thead th {\n",
       "        text-align: right;\n",
       "    }\n",
       "</style>\n",
       "<table border=\"1\" class=\"dataframe\">\n",
       "  <thead>\n",
       "    <tr style=\"text-align: right;\">\n",
       "      <th></th>\n",
       "      <th>Maaş</th>\n",
       "      <th>Yaş</th>\n",
       "      <th>Çalışma Saati</th>\n",
       "      <th>Emeklilik Yaşı</th>\n",
       "    </tr>\n",
       "  </thead>\n",
       "  <tbody>\n",
       "    <tr>\n",
       "      <th>Behçet</th>\n",
       "      <td>-0.279271</td>\n",
       "      <td>-0.117491</td>\n",
       "      <td>-0.406650</td>\n",
       "      <td>-0.558541</td>\n",
       "    </tr>\n",
       "    <tr>\n",
       "      <th>Yavuz</th>\n",
       "      <td>1.325608</td>\n",
       "      <td>-0.187190</td>\n",
       "      <td>1.229221</td>\n",
       "      <td>2.651217</td>\n",
       "    </tr>\n",
       "    <tr>\n",
       "      <th>Gizem</th>\n",
       "      <td>0.399037</td>\n",
       "      <td>0.743723</td>\n",
       "      <td>0.394010</td>\n",
       "      <td>0.798075</td>\n",
       "    </tr>\n",
       "    <tr>\n",
       "      <th>Şevval</th>\n",
       "      <td>-0.908296</td>\n",
       "      <td>-1.503358</td>\n",
       "      <td>0.261190</td>\n",
       "      <td>-1.816591</td>\n",
       "    </tr>\n",
       "  </tbody>\n",
       "</table>\n",
       "</div>"
      ],
      "text/plain": [
       "            Maaş       Yaş  Çalışma Saati  Emeklilik Yaşı\n",
       "Behçet -0.279271 -0.117491      -0.406650       -0.558541\n",
       "Yavuz   1.325608 -0.187190       1.229221        2.651217\n",
       "Gizem   0.399037  0.743723       0.394010        0.798075\n",
       "Şevval -0.908296 -1.503358       0.261190       -1.816591"
      ]
     },
     "execution_count": 17,
     "metadata": {},
     "output_type": "execute_result"
    }
   ],
   "source": [
    "yeniDataFrame #drop direkt dataFrame üzerinde değişiklik yapmaz"
   ]
  },
  {
   "cell_type": "code",
   "execution_count": 18,
   "metadata": {},
   "outputs": [],
   "source": [
    "yeniDataFrame.drop(\"Emeklilik Yaşı\", axis=1, inplace=True)  #inplace -> dataFrame de değişiklik yap anlamına  gelir"
   ]
  },
  {
   "cell_type": "code",
   "execution_count": 19,
   "metadata": {},
   "outputs": [
    {
     "data": {
      "text/html": [
       "<div>\n",
       "<style scoped>\n",
       "    .dataframe tbody tr th:only-of-type {\n",
       "        vertical-align: middle;\n",
       "    }\n",
       "\n",
       "    .dataframe tbody tr th {\n",
       "        vertical-align: top;\n",
       "    }\n",
       "\n",
       "    .dataframe thead th {\n",
       "        text-align: right;\n",
       "    }\n",
       "</style>\n",
       "<table border=\"1\" class=\"dataframe\">\n",
       "  <thead>\n",
       "    <tr style=\"text-align: right;\">\n",
       "      <th></th>\n",
       "      <th>Maaş</th>\n",
       "      <th>Yaş</th>\n",
       "      <th>Çalışma Saati</th>\n",
       "    </tr>\n",
       "  </thead>\n",
       "  <tbody>\n",
       "    <tr>\n",
       "      <th>Behçet</th>\n",
       "      <td>-0.279271</td>\n",
       "      <td>-0.117491</td>\n",
       "      <td>-0.406650</td>\n",
       "    </tr>\n",
       "    <tr>\n",
       "      <th>Yavuz</th>\n",
       "      <td>1.325608</td>\n",
       "      <td>-0.187190</td>\n",
       "      <td>1.229221</td>\n",
       "    </tr>\n",
       "    <tr>\n",
       "      <th>Gizem</th>\n",
       "      <td>0.399037</td>\n",
       "      <td>0.743723</td>\n",
       "      <td>0.394010</td>\n",
       "    </tr>\n",
       "    <tr>\n",
       "      <th>Şevval</th>\n",
       "      <td>-0.908296</td>\n",
       "      <td>-1.503358</td>\n",
       "      <td>0.261190</td>\n",
       "    </tr>\n",
       "  </tbody>\n",
       "</table>\n",
       "</div>"
      ],
      "text/plain": [
       "            Maaş       Yaş  Çalışma Saati\n",
       "Behçet -0.279271 -0.117491      -0.406650\n",
       "Yavuz   1.325608 -0.187190       1.229221\n",
       "Gizem   0.399037  0.743723       0.394010\n",
       "Şevval -0.908296 -1.503358       0.261190"
      ]
     },
     "execution_count": 19,
     "metadata": {},
     "output_type": "execute_result"
    }
   ],
   "source": [
    "yeniDataFrame"
   ]
  },
  {
   "cell_type": "code",
   "execution_count": 20,
   "metadata": {},
   "outputs": [
    {
     "data": {
      "text/html": [
       "<div>\n",
       "<style scoped>\n",
       "    .dataframe tbody tr th:only-of-type {\n",
       "        vertical-align: middle;\n",
       "    }\n",
       "\n",
       "    .dataframe tbody tr th {\n",
       "        vertical-align: top;\n",
       "    }\n",
       "\n",
       "    .dataframe thead th {\n",
       "        text-align: right;\n",
       "    }\n",
       "</style>\n",
       "<table border=\"1\" class=\"dataframe\">\n",
       "  <thead>\n",
       "    <tr style=\"text-align: right;\">\n",
       "      <th></th>\n",
       "      <th>Maaş</th>\n",
       "      <th>Yaş</th>\n",
       "      <th>Çalışma Saati</th>\n",
       "    </tr>\n",
       "  </thead>\n",
       "  <tbody>\n",
       "    <tr>\n",
       "      <th>Behçet</th>\n",
       "      <td>-0.279271</td>\n",
       "      <td>-0.117491</td>\n",
       "      <td>-0.40665</td>\n",
       "    </tr>\n",
       "    <tr>\n",
       "      <th>Yavuz</th>\n",
       "      <td>NaN</td>\n",
       "      <td>-0.187190</td>\n",
       "      <td>NaN</td>\n",
       "    </tr>\n",
       "    <tr>\n",
       "      <th>Gizem</th>\n",
       "      <td>NaN</td>\n",
       "      <td>NaN</td>\n",
       "      <td>NaN</td>\n",
       "    </tr>\n",
       "    <tr>\n",
       "      <th>Şevval</th>\n",
       "      <td>-0.908296</td>\n",
       "      <td>-1.503358</td>\n",
       "      <td>NaN</td>\n",
       "    </tr>\n",
       "  </tbody>\n",
       "</table>\n",
       "</div>"
      ],
      "text/plain": [
       "            Maaş       Yaş  Çalışma Saati\n",
       "Behçet -0.279271 -0.117491       -0.40665\n",
       "Yavuz        NaN -0.187190            NaN\n",
       "Gizem        NaN       NaN            NaN\n",
       "Şevval -0.908296 -1.503358            NaN"
      ]
     },
     "execution_count": 20,
     "metadata": {},
     "output_type": "execute_result"
    }
   ],
   "source": [
    "yeniDataFrame[yeniDataFrame < 0] #sıfırdan küçük değerleri gösterir"
   ]
  },
  {
   "cell_type": "code",
   "execution_count": 21,
   "metadata": {},
   "outputs": [
    {
     "data": {
      "text/html": [
       "<div>\n",
       "<style scoped>\n",
       "    .dataframe tbody tr th:only-of-type {\n",
       "        vertical-align: middle;\n",
       "    }\n",
       "\n",
       "    .dataframe tbody tr th {\n",
       "        vertical-align: top;\n",
       "    }\n",
       "\n",
       "    .dataframe thead th {\n",
       "        text-align: right;\n",
       "    }\n",
       "</style>\n",
       "<table border=\"1\" class=\"dataframe\">\n",
       "  <thead>\n",
       "    <tr style=\"text-align: right;\">\n",
       "      <th></th>\n",
       "      <th>Maaş</th>\n",
       "      <th>Yaş</th>\n",
       "      <th>Çalışma Saati</th>\n",
       "    </tr>\n",
       "  </thead>\n",
       "  <tbody>\n",
       "    <tr>\n",
       "      <th>Gizem</th>\n",
       "      <td>0.399037</td>\n",
       "      <td>0.743723</td>\n",
       "      <td>0.39401</td>\n",
       "    </tr>\n",
       "  </tbody>\n",
       "</table>\n",
       "</div>"
      ],
      "text/plain": [
       "           Maaş       Yaş  Çalışma Saati\n",
       "Gizem  0.399037  0.743723        0.39401"
      ]
     },
     "execution_count": 21,
     "metadata": {},
     "output_type": "execute_result"
    }
   ],
   "source": [
    "yeniDataFrame[yeniDataFrame[\"Yaş\"] > 0] # Yaş değeri 0 dan büyük olan satırları gösterir"
   ]
  },
  {
   "cell_type": "markdown",
   "metadata": {},
   "source": [
    "## Index Ayarlama"
   ]
  },
  {
   "cell_type": "code",
   "execution_count": 22,
   "metadata": {},
   "outputs": [
    {
     "data": {
      "text/html": [
       "<div>\n",
       "<style scoped>\n",
       "    .dataframe tbody tr th:only-of-type {\n",
       "        vertical-align: middle;\n",
       "    }\n",
       "\n",
       "    .dataframe tbody tr th {\n",
       "        vertical-align: top;\n",
       "    }\n",
       "\n",
       "    .dataframe thead th {\n",
       "        text-align: right;\n",
       "    }\n",
       "</style>\n",
       "<table border=\"1\" class=\"dataframe\">\n",
       "  <thead>\n",
       "    <tr style=\"text-align: right;\">\n",
       "      <th></th>\n",
       "      <th>index</th>\n",
       "      <th>Maaş</th>\n",
       "      <th>Yaş</th>\n",
       "      <th>Çalışma Saati</th>\n",
       "    </tr>\n",
       "  </thead>\n",
       "  <tbody>\n",
       "    <tr>\n",
       "      <th>0</th>\n",
       "      <td>Behçet</td>\n",
       "      <td>-0.279271</td>\n",
       "      <td>-0.117491</td>\n",
       "      <td>-0.406650</td>\n",
       "    </tr>\n",
       "    <tr>\n",
       "      <th>1</th>\n",
       "      <td>Yavuz</td>\n",
       "      <td>1.325608</td>\n",
       "      <td>-0.187190</td>\n",
       "      <td>1.229221</td>\n",
       "    </tr>\n",
       "    <tr>\n",
       "      <th>2</th>\n",
       "      <td>Gizem</td>\n",
       "      <td>0.399037</td>\n",
       "      <td>0.743723</td>\n",
       "      <td>0.394010</td>\n",
       "    </tr>\n",
       "    <tr>\n",
       "      <th>3</th>\n",
       "      <td>Şevval</td>\n",
       "      <td>-0.908296</td>\n",
       "      <td>-1.503358</td>\n",
       "      <td>0.261190</td>\n",
       "    </tr>\n",
       "  </tbody>\n",
       "</table>\n",
       "</div>"
      ],
      "text/plain": [
       "    index      Maaş       Yaş  Çalışma Saati\n",
       "0  Behçet -0.279271 -0.117491      -0.406650\n",
       "1   Yavuz  1.325608 -0.187190       1.229221\n",
       "2   Gizem  0.399037  0.743723       0.394010\n",
       "3  Şevval -0.908296 -1.503358       0.261190"
      ]
     },
     "execution_count": 22,
     "metadata": {},
     "output_type": "execute_result"
    }
   ],
   "source": [
    "yeniDataFrame.reset_index() # row'lardaki index'leri index adında yeni kolona aktarır ve index'leri 0,1,2... şeklinde ayarlar"
   ]
  },
  {
   "cell_type": "code",
   "execution_count": 23,
   "metadata": {},
   "outputs": [],
   "source": [
    "isimListesi = [\"a\",\"b\",\"c\",\"d\"]\n",
    "yeniDataFrame[\"Yeni Index\"] = isimListesi"
   ]
  },
  {
   "cell_type": "code",
   "execution_count": 24,
   "metadata": {},
   "outputs": [
    {
     "data": {
      "text/html": [
       "<div>\n",
       "<style scoped>\n",
       "    .dataframe tbody tr th:only-of-type {\n",
       "        vertical-align: middle;\n",
       "    }\n",
       "\n",
       "    .dataframe tbody tr th {\n",
       "        vertical-align: top;\n",
       "    }\n",
       "\n",
       "    .dataframe thead th {\n",
       "        text-align: right;\n",
       "    }\n",
       "</style>\n",
       "<table border=\"1\" class=\"dataframe\">\n",
       "  <thead>\n",
       "    <tr style=\"text-align: right;\">\n",
       "      <th></th>\n",
       "      <th>Maaş</th>\n",
       "      <th>Yaş</th>\n",
       "      <th>Çalışma Saati</th>\n",
       "      <th>Yeni Index</th>\n",
       "    </tr>\n",
       "  </thead>\n",
       "  <tbody>\n",
       "    <tr>\n",
       "      <th>Behçet</th>\n",
       "      <td>-0.279271</td>\n",
       "      <td>-0.117491</td>\n",
       "      <td>-0.406650</td>\n",
       "      <td>a</td>\n",
       "    </tr>\n",
       "    <tr>\n",
       "      <th>Yavuz</th>\n",
       "      <td>1.325608</td>\n",
       "      <td>-0.187190</td>\n",
       "      <td>1.229221</td>\n",
       "      <td>b</td>\n",
       "    </tr>\n",
       "    <tr>\n",
       "      <th>Gizem</th>\n",
       "      <td>0.399037</td>\n",
       "      <td>0.743723</td>\n",
       "      <td>0.394010</td>\n",
       "      <td>c</td>\n",
       "    </tr>\n",
       "    <tr>\n",
       "      <th>Şevval</th>\n",
       "      <td>-0.908296</td>\n",
       "      <td>-1.503358</td>\n",
       "      <td>0.261190</td>\n",
       "      <td>d</td>\n",
       "    </tr>\n",
       "  </tbody>\n",
       "</table>\n",
       "</div>"
      ],
      "text/plain": [
       "            Maaş       Yaş  Çalışma Saati Yeni Index\n",
       "Behçet -0.279271 -0.117491      -0.406650          a\n",
       "Yavuz   1.325608 -0.187190       1.229221          b\n",
       "Gizem   0.399037  0.743723       0.394010          c\n",
       "Şevval -0.908296 -1.503358       0.261190          d"
      ]
     },
     "execution_count": 24,
     "metadata": {},
     "output_type": "execute_result"
    }
   ],
   "source": [
    "yeniDataFrame"
   ]
  },
  {
   "cell_type": "code",
   "execution_count": 25,
   "metadata": {},
   "outputs": [
    {
     "data": {
      "text/html": [
       "<div>\n",
       "<style scoped>\n",
       "    .dataframe tbody tr th:only-of-type {\n",
       "        vertical-align: middle;\n",
       "    }\n",
       "\n",
       "    .dataframe tbody tr th {\n",
       "        vertical-align: top;\n",
       "    }\n",
       "\n",
       "    .dataframe thead th {\n",
       "        text-align: right;\n",
       "    }\n",
       "</style>\n",
       "<table border=\"1\" class=\"dataframe\">\n",
       "  <thead>\n",
       "    <tr style=\"text-align: right;\">\n",
       "      <th></th>\n",
       "      <th>Maaş</th>\n",
       "      <th>Yaş</th>\n",
       "      <th>Çalışma Saati</th>\n",
       "    </tr>\n",
       "    <tr>\n",
       "      <th>Yeni Index</th>\n",
       "      <th></th>\n",
       "      <th></th>\n",
       "      <th></th>\n",
       "    </tr>\n",
       "  </thead>\n",
       "  <tbody>\n",
       "    <tr>\n",
       "      <th>a</th>\n",
       "      <td>-0.279271</td>\n",
       "      <td>-0.117491</td>\n",
       "      <td>-0.406650</td>\n",
       "    </tr>\n",
       "    <tr>\n",
       "      <th>b</th>\n",
       "      <td>1.325608</td>\n",
       "      <td>-0.187190</td>\n",
       "      <td>1.229221</td>\n",
       "    </tr>\n",
       "    <tr>\n",
       "      <th>c</th>\n",
       "      <td>0.399037</td>\n",
       "      <td>0.743723</td>\n",
       "      <td>0.394010</td>\n",
       "    </tr>\n",
       "    <tr>\n",
       "      <th>d</th>\n",
       "      <td>-0.908296</td>\n",
       "      <td>-1.503358</td>\n",
       "      <td>0.261190</td>\n",
       "    </tr>\n",
       "  </tbody>\n",
       "</table>\n",
       "</div>"
      ],
      "text/plain": [
       "                Maaş       Yaş  Çalışma Saati\n",
       "Yeni Index                                   \n",
       "a          -0.279271 -0.117491      -0.406650\n",
       "b           1.325608 -0.187190       1.229221\n",
       "c           0.399037  0.743723       0.394010\n",
       "d          -0.908296 -1.503358       0.261190"
      ]
     },
     "execution_count": 25,
     "metadata": {},
     "output_type": "execute_result"
    }
   ],
   "source": [
    "yeniDataFrame.set_index(\"Yeni Index\") # kolonlarımızı row'ların index'i yapabiliriz. ama bu yapım dataFrame'i etkilemez"
   ]
  },
  {
   "cell_type": "code",
   "execution_count": 26,
   "metadata": {},
   "outputs": [],
   "source": [
    "yeniDataFrame.set_index(\"Yeni Index\", inplace=True) #dataFrame'in üzerine işler"
   ]
  },
  {
   "cell_type": "code",
   "execution_count": 27,
   "metadata": {},
   "outputs": [
    {
     "data": {
      "text/html": [
       "<div>\n",
       "<style scoped>\n",
       "    .dataframe tbody tr th:only-of-type {\n",
       "        vertical-align: middle;\n",
       "    }\n",
       "\n",
       "    .dataframe tbody tr th {\n",
       "        vertical-align: top;\n",
       "    }\n",
       "\n",
       "    .dataframe thead th {\n",
       "        text-align: right;\n",
       "    }\n",
       "</style>\n",
       "<table border=\"1\" class=\"dataframe\">\n",
       "  <thead>\n",
       "    <tr style=\"text-align: right;\">\n",
       "      <th></th>\n",
       "      <th>Maaş</th>\n",
       "      <th>Yaş</th>\n",
       "      <th>Çalışma Saati</th>\n",
       "    </tr>\n",
       "    <tr>\n",
       "      <th>Yeni Index</th>\n",
       "      <th></th>\n",
       "      <th></th>\n",
       "      <th></th>\n",
       "    </tr>\n",
       "  </thead>\n",
       "  <tbody>\n",
       "    <tr>\n",
       "      <th>a</th>\n",
       "      <td>-0.279271</td>\n",
       "      <td>-0.117491</td>\n",
       "      <td>-0.406650</td>\n",
       "    </tr>\n",
       "    <tr>\n",
       "      <th>b</th>\n",
       "      <td>1.325608</td>\n",
       "      <td>-0.187190</td>\n",
       "      <td>1.229221</td>\n",
       "    </tr>\n",
       "    <tr>\n",
       "      <th>c</th>\n",
       "      <td>0.399037</td>\n",
       "      <td>0.743723</td>\n",
       "      <td>0.394010</td>\n",
       "    </tr>\n",
       "    <tr>\n",
       "      <th>d</th>\n",
       "      <td>-0.908296</td>\n",
       "      <td>-1.503358</td>\n",
       "      <td>0.261190</td>\n",
       "    </tr>\n",
       "  </tbody>\n",
       "</table>\n",
       "</div>"
      ],
      "text/plain": [
       "                Maaş       Yaş  Çalışma Saati\n",
       "Yeni Index                                   \n",
       "a          -0.279271 -0.117491      -0.406650\n",
       "b           1.325608 -0.187190       1.229221\n",
       "c           0.399037  0.743723       0.394010\n",
       "d          -0.908296 -1.503358       0.261190"
      ]
     },
     "execution_count": 27,
     "metadata": {},
     "output_type": "execute_result"
    }
   ],
   "source": [
    "yeniDataFrame"
   ]
  },
  {
   "cell_type": "markdown",
   "metadata": {},
   "source": [
    "## Multi Index & Çoklu İndeks"
   ]
  },
  {
   "cell_type": "code",
   "execution_count": 28,
   "metadata": {},
   "outputs": [],
   "source": [
    "disIndex = [\"Simpson\",\"Simpson\",\"Simpson\",\"South Park\",\"South Park\",\"South Park\"]\n",
    "icIndex = [\"Homer\",\"Bart\",\"Marge\",\"Cartman\",\"Kyle\",\"Kenny\"]\n",
    "birlesmisIndex = list(zip(disIndex,icIndex))"
   ]
  },
  {
   "cell_type": "code",
   "execution_count": 29,
   "metadata": {},
   "outputs": [
    {
     "data": {
      "text/plain": [
       "[('Simpson', 'Homer'),\n",
       " ('Simpson', 'Bart'),\n",
       " ('Simpson', 'Marge'),\n",
       " ('South Park', 'Cartman'),\n",
       " ('South Park', 'Kyle'),\n",
       " ('South Park', 'Kenny')]"
      ]
     },
     "execution_count": 29,
     "metadata": {},
     "output_type": "execute_result"
    }
   ],
   "source": [
    "birlesmisIndex"
   ]
  },
  {
   "cell_type": "code",
   "execution_count": 30,
   "metadata": {},
   "outputs": [],
   "source": [
    "birlesmisIndex = pd.MultiIndex.from_tuples(birlesmisIndex)"
   ]
  },
  {
   "cell_type": "code",
   "execution_count": 32,
   "metadata": {},
   "outputs": [
    {
     "data": {
      "text/plain": [
       "MultiIndex([(   'Simpson',   'Homer'),\n",
       "            (   'Simpson',    'Bart'),\n",
       "            (   'Simpson',   'Marge'),\n",
       "            ('South Park', 'Cartman'),\n",
       "            ('South Park',    'Kyle'),\n",
       "            ('South Park',   'Kenny')],\n",
       "           )"
      ]
     },
     "execution_count": 32,
     "metadata": {},
     "output_type": "execute_result"
    }
   ],
   "source": [
    "birlesmisIndex #multiIndex'imizi oluşturduk. birlesmisIndex tuple olduğu için from_tuples kullandık"
   ]
  },
  {
   "cell_type": "code",
   "execution_count": 34,
   "metadata": {},
   "outputs": [],
   "source": [
    "cizgiFilmListem = [[\"A\",40],[\"B\",20],[\"C\",45],[\"D\",12],[\"E\",24],[\"F\",10]]\n",
    "cizgiFilmNumpy = np.array(cizgiFilmListem)"
   ]
  },
  {
   "cell_type": "code",
   "execution_count": 35,
   "metadata": {},
   "outputs": [],
   "source": [
    "cizgifilmDataFrame = pd.DataFrame(cizgiFilmNumpy,index=birlesmisIndex,columns=[\"Meslek\", \"Yaş\"])"
   ]
  },
  {
   "cell_type": "code",
   "execution_count": 36,
   "metadata": {},
   "outputs": [
    {
     "data": {
      "text/html": [
       "<div>\n",
       "<style scoped>\n",
       "    .dataframe tbody tr th:only-of-type {\n",
       "        vertical-align: middle;\n",
       "    }\n",
       "\n",
       "    .dataframe tbody tr th {\n",
       "        vertical-align: top;\n",
       "    }\n",
       "\n",
       "    .dataframe thead th {\n",
       "        text-align: right;\n",
       "    }\n",
       "</style>\n",
       "<table border=\"1\" class=\"dataframe\">\n",
       "  <thead>\n",
       "    <tr style=\"text-align: right;\">\n",
       "      <th></th>\n",
       "      <th></th>\n",
       "      <th>Meslek</th>\n",
       "      <th>Yaş</th>\n",
       "    </tr>\n",
       "  </thead>\n",
       "  <tbody>\n",
       "    <tr>\n",
       "      <th rowspan=\"3\" valign=\"top\">Simpson</th>\n",
       "      <th>Homer</th>\n",
       "      <td>A</td>\n",
       "      <td>40</td>\n",
       "    </tr>\n",
       "    <tr>\n",
       "      <th>Bart</th>\n",
       "      <td>B</td>\n",
       "      <td>20</td>\n",
       "    </tr>\n",
       "    <tr>\n",
       "      <th>Marge</th>\n",
       "      <td>C</td>\n",
       "      <td>45</td>\n",
       "    </tr>\n",
       "    <tr>\n",
       "      <th rowspan=\"3\" valign=\"top\">South Park</th>\n",
       "      <th>Cartman</th>\n",
       "      <td>D</td>\n",
       "      <td>12</td>\n",
       "    </tr>\n",
       "    <tr>\n",
       "      <th>Kyle</th>\n",
       "      <td>E</td>\n",
       "      <td>24</td>\n",
       "    </tr>\n",
       "    <tr>\n",
       "      <th>Kenny</th>\n",
       "      <td>F</td>\n",
       "      <td>10</td>\n",
       "    </tr>\n",
       "  </tbody>\n",
       "</table>\n",
       "</div>"
      ],
      "text/plain": [
       "                   Meslek Yaş\n",
       "Simpson    Homer        A  40\n",
       "           Bart         B  20\n",
       "           Marge        C  45\n",
       "South Park Cartman      D  12\n",
       "           Kyle         E  24\n",
       "           Kenny        F  10"
      ]
     },
     "execution_count": 36,
     "metadata": {},
     "output_type": "execute_result"
    }
   ],
   "source": [
    "cizgifilmDataFrame #2 tane index'mizi bulunuyor. "
   ]
  },
  {
   "cell_type": "code",
   "execution_count": 41,
   "metadata": {},
   "outputs": [
    {
     "data": {
      "text/html": [
       "<div>\n",
       "<style scoped>\n",
       "    .dataframe tbody tr th:only-of-type {\n",
       "        vertical-align: middle;\n",
       "    }\n",
       "\n",
       "    .dataframe tbody tr th {\n",
       "        vertical-align: top;\n",
       "    }\n",
       "\n",
       "    .dataframe thead th {\n",
       "        text-align: right;\n",
       "    }\n",
       "</style>\n",
       "<table border=\"1\" class=\"dataframe\">\n",
       "  <thead>\n",
       "    <tr style=\"text-align: right;\">\n",
       "      <th></th>\n",
       "      <th>Meslek</th>\n",
       "      <th>Yaş</th>\n",
       "    </tr>\n",
       "  </thead>\n",
       "  <tbody>\n",
       "    <tr>\n",
       "      <th>Homer</th>\n",
       "      <td>A</td>\n",
       "      <td>40</td>\n",
       "    </tr>\n",
       "    <tr>\n",
       "      <th>Bart</th>\n",
       "      <td>B</td>\n",
       "      <td>20</td>\n",
       "    </tr>\n",
       "    <tr>\n",
       "      <th>Marge</th>\n",
       "      <td>C</td>\n",
       "      <td>45</td>\n",
       "    </tr>\n",
       "  </tbody>\n",
       "</table>\n",
       "</div>"
      ],
      "text/plain": [
       "      Meslek Yaş\n",
       "Homer      A  40\n",
       "Bart       B  20\n",
       "Marge      C  45"
      ]
     },
     "execution_count": 41,
     "metadata": {},
     "output_type": "execute_result"
    }
   ],
   "source": [
    "cizgifilmDataFrame.loc[\"Simpson\"]"
   ]
  },
  {
   "cell_type": "code",
   "execution_count": 43,
   "metadata": {},
   "outputs": [
    {
     "data": {
      "text/plain": [
       "Meslek     A\n",
       "Yaş       40\n",
       "Name: Homer, dtype: object"
      ]
     },
     "execution_count": 43,
     "metadata": {},
     "output_type": "execute_result"
    }
   ],
   "source": [
    "cizgifilmDataFrame.loc[\"Simpson\"].loc[\"Homer\"]"
   ]
  },
  {
   "cell_type": "code",
   "execution_count": 46,
   "metadata": {},
   "outputs": [],
   "source": [
    "cizgifilmDataFrame.index.names = (\"Aile Adı\", \"İsim\") #index'lerimize de başlık verebiliriz"
   ]
  },
  {
   "cell_type": "code",
   "execution_count": 47,
   "metadata": {},
   "outputs": [
    {
     "data": {
      "text/html": [
       "<div>\n",
       "<style scoped>\n",
       "    .dataframe tbody tr th:only-of-type {\n",
       "        vertical-align: middle;\n",
       "    }\n",
       "\n",
       "    .dataframe tbody tr th {\n",
       "        vertical-align: top;\n",
       "    }\n",
       "\n",
       "    .dataframe thead th {\n",
       "        text-align: right;\n",
       "    }\n",
       "</style>\n",
       "<table border=\"1\" class=\"dataframe\">\n",
       "  <thead>\n",
       "    <tr style=\"text-align: right;\">\n",
       "      <th></th>\n",
       "      <th></th>\n",
       "      <th>Meslek</th>\n",
       "      <th>Yaş</th>\n",
       "    </tr>\n",
       "    <tr>\n",
       "      <th>Aile Adı</th>\n",
       "      <th>İsim</th>\n",
       "      <th></th>\n",
       "      <th></th>\n",
       "    </tr>\n",
       "  </thead>\n",
       "  <tbody>\n",
       "    <tr>\n",
       "      <th rowspan=\"3\" valign=\"top\">Simpson</th>\n",
       "      <th>Homer</th>\n",
       "      <td>A</td>\n",
       "      <td>40</td>\n",
       "    </tr>\n",
       "    <tr>\n",
       "      <th>Bart</th>\n",
       "      <td>B</td>\n",
       "      <td>20</td>\n",
       "    </tr>\n",
       "    <tr>\n",
       "      <th>Marge</th>\n",
       "      <td>C</td>\n",
       "      <td>45</td>\n",
       "    </tr>\n",
       "    <tr>\n",
       "      <th rowspan=\"3\" valign=\"top\">South Park</th>\n",
       "      <th>Cartman</th>\n",
       "      <td>D</td>\n",
       "      <td>12</td>\n",
       "    </tr>\n",
       "    <tr>\n",
       "      <th>Kyle</th>\n",
       "      <td>E</td>\n",
       "      <td>24</td>\n",
       "    </tr>\n",
       "    <tr>\n",
       "      <th>Kenny</th>\n",
       "      <td>F</td>\n",
       "      <td>10</td>\n",
       "    </tr>\n",
       "  </tbody>\n",
       "</table>\n",
       "</div>"
      ],
      "text/plain": [
       "                   Meslek Yaş\n",
       "Aile Adı   İsim              \n",
       "Simpson    Homer        A  40\n",
       "           Bart         B  20\n",
       "           Marge        C  45\n",
       "South Park Cartman      D  12\n",
       "           Kyle         E  24\n",
       "           Kenny        F  10"
      ]
     },
     "execution_count": 47,
     "metadata": {},
     "output_type": "execute_result"
    }
   ],
   "source": [
    "cizgifilmDataFrame"
   ]
  }
 ],
 "metadata": {
  "kernelspec": {
   "display_name": "Python 3.10.6 64-bit",
   "language": "python",
   "name": "python3"
  },
  "language_info": {
   "codemirror_mode": {
    "name": "ipython",
    "version": 3
   },
   "file_extension": ".py",
   "mimetype": "text/x-python",
   "name": "python",
   "nbconvert_exporter": "python",
   "pygments_lexer": "ipython3",
   "version": "3.10.6"
  },
  "orig_nbformat": 4,
  "vscode": {
   "interpreter": {
    "hash": "b5b8f30e3ee724d353d0c6503570a55c8de6cacaef7d532bc7fcc92272e2de04"
   }
  }
 },
 "nbformat": 4,
 "nbformat_minor": 2
}
